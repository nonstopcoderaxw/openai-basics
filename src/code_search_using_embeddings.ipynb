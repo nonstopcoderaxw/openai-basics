{
 "cells": [
  {
   "cell_type": "markdown",
   "id": "fd244708-d53a-4618-862a-f78b935731e7",
   "metadata": {},
   "source": [
    "### reference\n",
    "https://cookbook.openai.com/examples/code_search_using_embeddings"
   ]
  },
  {
   "cell_type": "code",
   "execution_count": 21,
   "id": "0e1ce72c-b01f-4768-8f13-5d1b1938518e",
   "metadata": {},
   "outputs": [],
   "source": [
    "from dotenv import dotenv_values\n",
    "from openai import OpenAI\n",
    "import json\n",
    "\n",
    "envs = dotenv_values(\"../.env\")\n",
    "openai = OpenAI(api_key = envs[\"OPENAI_API_KEY\"])\n",
    "\n",
    "from scipy.spatial.distance import cosine\n",
    "def cosine_similarity(a, b):\n",
    "    return 1 - cosine(a, b)\n",
    "\n",
    "import tiktoken\n",
    "\n",
    "def get_embedding(text, encoding = \"cl100k_base\", model = \"text-embedding-3-small\"):\n",
    "    encoding = tiktoken.get_encoding(encoding)\n",
    "    return openai.embeddings.create(input = encoding.encode(text), model = model).data[0].embedding"
   ]
  },
  {
   "cell_type": "markdown",
   "id": "21238436-c3f8-4aba-bffa-8f2f5addda16",
   "metadata": {},
   "source": [
    "### helper"
   ]
  },
  {
   "cell_type": "code",
   "execution_count": 23,
   "id": "5687f815-2d51-40ed-8545-c23506646576",
   "metadata": {},
   "outputs": [],
   "source": [
    "import pandas as pd\n",
    "from pathlib import Path\n",
    "\n",
    "DEF_PREFIXES = ['def ', 'async def ']\n",
    "NEWLINE = '\\n'\n",
    "\n",
    "def get_function_name(code):\n",
    "    \"\"\"\n",
    "    Extract function name from a line beginning with 'def' or 'async def'.\n",
    "    \"\"\"\n",
    "    for prefix in DEF_PREFIXES:\n",
    "        if code.startswith(prefix):\n",
    "            return code[len(prefix): code.index('(')]\n",
    "\n",
    "\n",
    "def get_until_no_space(all_lines, i):\n",
    "    \"\"\"\n",
    "    Get all lines until a line outside the function definition is found.\n",
    "    \"\"\"\n",
    "    ret = [all_lines[i]]\n",
    "    for j in range(i + 1, len(all_lines)):\n",
    "        if len(all_lines[j]) == 0 or all_lines[j][0] in [' ', '\\t', ')']:\n",
    "            ret.append(all_lines[j])\n",
    "        else:\n",
    "            break\n",
    "    return NEWLINE.join(ret)\n",
    "\n",
    "\n",
    "def get_functions(filepath):\n",
    "    \"\"\"\n",
    "    Get all functions in a Python file.\n",
    "    \"\"\"\n",
    "    with open(filepath, 'r') as file:\n",
    "        all_lines = file.read().replace('\\r', NEWLINE).split(NEWLINE)\n",
    "        for i, l in enumerate(all_lines):\n",
    "            for prefix in DEF_PREFIXES:\n",
    "                if l.startswith(prefix):\n",
    "                    code = get_until_no_space(all_lines, i)\n",
    "                    function_name = get_function_name(code)\n",
    "                    yield {\n",
    "                        'code': code,\n",
    "                        'function_name': function_name,\n",
    "                        'filepath': filepath,\n",
    "                    }\n",
    "                    break\n",
    "\n",
    "\n",
    "def extract_functions_from_repo(code_root):\n",
    "    \"\"\"\n",
    "    Extract all .py functions from the repository.\n",
    "    \"\"\"\n",
    "    code_files = list(code_root.glob('**/*.py'))\n",
    "\n",
    "    num_files = len(code_files)\n",
    "    print(f'Total number of .py files: {num_files}')\n",
    "\n",
    "    if num_files == 0:\n",
    "        print('Verify openai-python repo exists and code_root is set correctly.')\n",
    "        return None\n",
    "\n",
    "    all_funcs = [\n",
    "        func\n",
    "        for code_file in code_files\n",
    "        for func in get_functions(str(code_file))\n",
    "    ]\n",
    "\n",
    "    num_funcs = len(all_funcs)\n",
    "    print(f'Total number of functions extracted: {num_funcs}')\n",
    "\n",
    "    return all_funcs"
   ]
  },
  {
   "cell_type": "code",
   "execution_count": 24,
   "id": "28470d75-d565-4edd-bb39-5ee1ebc8baa5",
   "metadata": {},
   "outputs": [
    {
     "name": "stdout",
     "output_type": "stream",
     "text": [
      "Total number of .py files: 332\n",
      "Total number of functions extracted: 348\n"
     ]
    },
    {
     "data": {
      "text/plain": [
       "[{'code': 'def test_pydantic_v1(session: nox.Session) -> None:\\n    session.install(\"-r\", \"requirements-dev.lock\")\\n    session.install(\"pydantic<2\")\\n\\n    session.run(\"pytest\", \"--showlocals\", \"--ignore=tests/functional\", *session.posargs)\\n',\n",
       "  'function_name': 'test_pydantic_v1',\n",
       "  'filepath': '/Volumes/t7/mac/gitProjects/openai-basics/data/sample_code_as_data/openai-python/noxfile.py'},\n",
       " {'code': 'def event_loop() -> Iterator[asyncio.AbstractEventLoop]:\\n    loop = asyncio.new_event_loop()\\n    yield loop\\n    loop.close()\\n\\n',\n",
       "  'function_name': 'event_loop',\n",
       "  'filepath': '/Volumes/t7/mac/gitProjects/openai-basics/data/sample_code_as_data/openai-python/tests/conftest.py'},\n",
       " {'code': 'def client(request: FixtureRequest) -> Iterator[OpenAI]:\\n    strict = getattr(request, \"param\", True)\\n    if not isinstance(strict, bool):\\n        raise TypeError(f\"Unexpected fixture parameter type {type(strict)}, expected {bool}\")\\n\\n    with OpenAI(base_url=base_url, api_key=api_key, _strict_response_validation=strict) as client:\\n        yield client\\n\\n',\n",
       "  'function_name': 'client',\n",
       "  'filepath': '/Volumes/t7/mac/gitProjects/openai-basics/data/sample_code_as_data/openai-python/tests/conftest.py'}]"
      ]
     },
     "execution_count": 24,
     "metadata": {},
     "output_type": "execute_result"
    }
   ],
   "source": [
    "# Set user root directory to the 'openai-python' repository\n",
    "# Assumes the 'openai-python' repository exists in the user's root directory\n",
    "code_root = \"/Volumes/t7/mac/gitProjects/openai-basics/data/sample_code_as_data/openai-python\"\n",
    "\n",
    "# Extract all functions from the repository\n",
    "all_funcs = extract_functions_from_repo(Path(code_root))\n",
    "\n",
    "all_funcs = all_funcs[:3]\n",
    "all_funcs"
   ]
  },
  {
   "cell_type": "code",
   "execution_count": 34,
   "id": "283a847b-9a69-4594-b149-d1e34f40f971",
   "metadata": {},
   "outputs": [
    {
     "data": {
      "text/html": [
       "<div>\n",
       "<style scoped>\n",
       "    .dataframe tbody tr th:only-of-type {\n",
       "        vertical-align: middle;\n",
       "    }\n",
       "\n",
       "    .dataframe tbody tr th {\n",
       "        vertical-align: top;\n",
       "    }\n",
       "\n",
       "    .dataframe thead th {\n",
       "        text-align: right;\n",
       "    }\n",
       "</style>\n",
       "<table border=\"1\" class=\"dataframe\">\n",
       "  <thead>\n",
       "    <tr style=\"text-align: right;\">\n",
       "      <th></th>\n",
       "      <th>code</th>\n",
       "      <th>function_name</th>\n",
       "      <th>filepath</th>\n",
       "      <th>code_embedding</th>\n",
       "    </tr>\n",
       "  </thead>\n",
       "  <tbody>\n",
       "    <tr>\n",
       "      <th>0</th>\n",
       "      <td>def test_pydantic_v1(session: nox.Session) -&gt; ...</td>\n",
       "      <td>test_pydantic_v1</td>\n",
       "      <td>/Volumes/t7/mac/gitProjects/openai-basics/data...</td>\n",
       "      <td>[0.015467033721506596, 0.008634207770228386, 0...</td>\n",
       "    </tr>\n",
       "    <tr>\n",
       "      <th>1</th>\n",
       "      <td>def event_loop() -&gt; Iterator[asyncio.AbstractE...</td>\n",
       "      <td>event_loop</td>\n",
       "      <td>/Volumes/t7/mac/gitProjects/openai-basics/data...</td>\n",
       "      <td>[0.0161242987960577, 0.031800419092178345, -0....</td>\n",
       "    </tr>\n",
       "    <tr>\n",
       "      <th>2</th>\n",
       "      <td>def client(request: FixtureRequest) -&gt; Iterato...</td>\n",
       "      <td>client</td>\n",
       "      <td>/Volumes/t7/mac/gitProjects/openai-basics/data...</td>\n",
       "      <td>[-0.014911573380231857, 0.030834101140499115, ...</td>\n",
       "    </tr>\n",
       "  </tbody>\n",
       "</table>\n",
       "</div>"
      ],
      "text/plain": [
       "                                                code     function_name  \\\n",
       "0  def test_pydantic_v1(session: nox.Session) -> ...  test_pydantic_v1   \n",
       "1  def event_loop() -> Iterator[asyncio.AbstractE...        event_loop   \n",
       "2  def client(request: FixtureRequest) -> Iterato...            client   \n",
       "\n",
       "                                            filepath  \\\n",
       "0  /Volumes/t7/mac/gitProjects/openai-basics/data...   \n",
       "1  /Volumes/t7/mac/gitProjects/openai-basics/data...   \n",
       "2  /Volumes/t7/mac/gitProjects/openai-basics/data...   \n",
       "\n",
       "                                      code_embedding  \n",
       "0  [0.015467033721506596, 0.008634207770228386, 0...  \n",
       "1  [0.0161242987960577, 0.031800419092178345, -0....  \n",
       "2  [-0.014911573380231857, 0.030834101140499115, ...  "
      ]
     },
     "execution_count": 34,
     "metadata": {},
     "output_type": "execute_result"
    }
   ],
   "source": [
    "df = pd.DataFrame(all_funcs)\n",
    "df[\"code_embedding\"] = df[\"code\"].apply(lambda x: get_embedding(x))\n",
    "df"
   ]
  },
  {
   "cell_type": "code",
   "execution_count": 52,
   "id": "a4b47f3e-c208-49ee-9983-fe897750b5e7",
   "metadata": {},
   "outputs": [],
   "source": [
    "def search_functions(df, code_query, n=3, pprint=True, n_lines=7):\n",
    "    embedding = get_embedding(code_query)\n",
    "    df['similarities'] = df.code_embedding.apply(lambda x: cosine_similarity(x, embedding))\n",
    "\n",
    "    res = df.sort_values('similarities', ascending=False).head(n)\n",
    "    if pprint:\n",
    "        for r in res.iterrows():\n",
    "            print(f\"{r[1].filepath}:{r[1].function_name}  score={round(r[1].similarities, 3)}\")\n",
    "            print(\"\\n\".join(r[1].code.split(\"\\n\")[:n_lines]))\n",
    "            print('-' * 70)\n",
    "\n",
    "    return res"
   ]
  },
  {
   "cell_type": "code",
   "execution_count": 53,
   "id": "f794c6ca-e2e2-4251-ac7e-df66970fcb20",
   "metadata": {},
   "outputs": [
    {
     "name": "stdout",
     "output_type": "stream",
     "text": [
      "(2, code              def client(request: FixtureRequest) -> Iterato...\n",
      "function_name                                                client\n",
      "filepath          /Volumes/t7/mac/gitProjects/openai-basics/data...\n",
      "code_embedding    [-0.014911573380231857, 0.030834101140499115, ...\n",
      "similarities                                               0.155826\n",
      "Name: 2, dtype: object)\n",
      "/Volumes/t7/mac/gitProjects/openai-basics/data/sample_code_as_data/openai-python/tests/conftest.py:client  score=0.156\n",
      "def client(request: FixtureRequest) -> Iterator[OpenAI]:\n",
      "    strict = getattr(request, \"param\", True)\n",
      "    if not isinstance(strict, bool):\n",
      "        raise TypeError(f\"Unexpected fixture parameter type {type(strict)}, expected {bool}\")\n",
      "\n",
      "    with OpenAI(base_url=base_url, api_key=api_key, _strict_response_validation=strict) as client:\n",
      "        yield client\n",
      "----------------------------------------------------------------------\n",
      "(0, code              def test_pydantic_v1(session: nox.Session) -> ...\n",
      "function_name                                      test_pydantic_v1\n",
      "filepath          /Volumes/t7/mac/gitProjects/openai-basics/data...\n",
      "code_embedding    [0.015467033721506596, 0.008634207770228386, 0...\n",
      "similarities                                               0.114558\n",
      "Name: 0, dtype: object)\n",
      "/Volumes/t7/mac/gitProjects/openai-basics/data/sample_code_as_data/openai-python/noxfile.py:test_pydantic_v1  score=0.115\n",
      "def test_pydantic_v1(session: nox.Session) -> None:\n",
      "    session.install(\"-r\", \"requirements-dev.lock\")\n",
      "    session.install(\"pydantic<2\")\n",
      "\n",
      "    session.run(\"pytest\", \"--showlocals\", \"--ignore=tests/functional\", *session.posargs)\n",
      "\n",
      "----------------------------------------------------------------------\n",
      "(1, code              def event_loop() -> Iterator[asyncio.AbstractE...\n",
      "function_name                                            event_loop\n",
      "filepath          /Volumes/t7/mac/gitProjects/openai-basics/data...\n",
      "code_embedding    [0.0161242987960577, 0.031800419092178345, -0....\n",
      "similarities                                               0.030046\n",
      "Name: 1, dtype: object)\n",
      "/Volumes/t7/mac/gitProjects/openai-basics/data/sample_code_as_data/openai-python/tests/conftest.py:event_loop  score=0.03\n",
      "def event_loop() -> Iterator[asyncio.AbstractEventLoop]:\n",
      "    loop = asyncio.new_event_loop()\n",
      "    yield loop\n",
      "    loop.close()\n",
      "\n",
      "\n",
      "----------------------------------------------------------------------\n"
     ]
    }
   ],
   "source": [
    "res = search_functions(df, 'fine-tuning input data validation logic', n=3)"
   ]
  }
 ],
 "metadata": {
  "kernelspec": {
   "display_name": "venv",
   "language": "python",
   "name": "venv"
  },
  "language_info": {
   "codemirror_mode": {
    "name": "ipython",
    "version": 3
   },
   "file_extension": ".py",
   "mimetype": "text/x-python",
   "name": "python",
   "nbconvert_exporter": "python",
   "pygments_lexer": "ipython3",
   "version": "3.9.6"
  }
 },
 "nbformat": 4,
 "nbformat_minor": 5
}
