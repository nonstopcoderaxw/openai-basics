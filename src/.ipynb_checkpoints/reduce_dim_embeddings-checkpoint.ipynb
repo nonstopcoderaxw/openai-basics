{
 "cells": [
  {
   "cell_type": "code",
   "execution_count": 6,
   "id": "ee641274-6e5b-4380-85e8-2e44698d54c7",
   "metadata": {},
   "outputs": [],
   "source": [
    "from dotenv import dotenv_values\n",
    "from openai import OpenAI\n",
    "import json\n",
    "\n",
    "envs = dotenv_values(\"../.env\")\n",
    "openai = OpenAI(api_key = envs[\"OPENAI_API_KEY\"])\n"
   ]
  },
  {
   "cell_type": "code",
   "execution_count": 9,
   "id": "5a598fc9-4abe-4059-a2d7-8da9ee370948",
   "metadata": {},
   "outputs": [
    {
     "name": "stdout",
     "output_type": "stream",
     "text": [
      "dim eb:  2\n",
      "eb [-0.9881666898727417, 0.15338397026062012]\n",
      "dim eb:  4\n",
      "eb [-0.17081218957901, 0.026513593271374702, 0.27052244544029236, -0.9470679759979248]\n"
     ]
    }
   ],
   "source": [
    "model = 'text-embedding-3-small'\n",
    "\n",
    "def get_embedding(text, dimensions=1536, model=model):\n",
    "   text = text.replace(\"\\n\", \" \")\n",
    "   return openai.embeddings.create(input = [text], model=model, dimensions = dimensions).data[0].embedding\n",
    "\n",
    "\n",
    "eb = get_embedding(text = 'test', dimensions=2)\n",
    "print('dim eb: ', len(eb))\n",
    "print('eb', eb)\n",
    "\n",
    "eb = get_embedding(text = 'test', dimensions=4)\n",
    "print('dim eb: ', len(eb))\n",
    "print('eb', eb)"
   ]
  },
  {
   "cell_type": "code",
   "execution_count": 8,
   "id": "c1fc3b6a-34fb-4dc3-bf2d-541c762907cf",
   "metadata": {},
   "outputs": [
    {
     "name": "stdout",
     "output_type": "stream",
     "text": [
      "eb_cut [-0.07906301319599152, 0.012272220104932785, 0.12521542608737946, -0.43836480379104614, -0.05127738043665886]\n",
      "normed_eb_cut [-0.16977357  0.02635238  0.26887755 -0.94130939 -0.11010893]\n"
     ]
    }
   ],
   "source": [
    "import numpy as np\n",
    "\n",
    "\n",
    "def normalize_l2(x):\n",
    "    x = np.array(x)\n",
    "    if x.ndim == 1:\n",
    "        norm = np.linalg.norm(x)\n",
    "        if norm == 0:\n",
    "            return x\n",
    "        return x / norm\n",
    "    else:\n",
    "        norm = np.linalg.norm(x, 2, axis=1, keepdims=True)\n",
    "        return np.where(norm == 0, x, x / norm)\n",
    "\n",
    "eb = get_embedding(text = 'test', dimensions=20)\n",
    "eb_cut = eb[:5]\n",
    "print(\"eb_cut\", eb_cut)\n",
    "\n",
    "normed_eb_cut = normalize_l2(eb_cut)\n",
    "print(\"normed_eb_cut\", normed_eb_cut)"
   ]
  }
 ],
 "metadata": {
  "kernelspec": {
   "display_name": "venv",
   "language": "python",
   "name": "venv"
  },
  "language_info": {
   "codemirror_mode": {
    "name": "ipython",
    "version": 3
   },
   "file_extension": ".py",
   "mimetype": "text/x-python",
   "name": "python",
   "nbconvert_exporter": "python",
   "pygments_lexer": "ipython3",
   "version": "3.9.6"
  }
 },
 "nbformat": 4,
 "nbformat_minor": 5
}
