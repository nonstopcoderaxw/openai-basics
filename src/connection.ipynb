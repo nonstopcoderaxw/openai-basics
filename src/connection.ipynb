{
 "cells": [
  {
   "cell_type": "code",
   "execution_count": 5,
   "id": "76b41ccf-0b65-404c-9956-504fa3dd80f2",
   "metadata": {},
   "outputs": [
    {
     "name": "stdout",
     "output_type": "stream",
     "text": [
      "ChatCompletion(id='chatcmpl-9VrHhLVEWM0UlARchdHcaxn8JPDpz', choices=[Choice(finish_reason='stop', index=0, logprobs=None, message=ChatCompletionMessage(content='In the OpenAI API, the terms \"user,\" \"assistant,\" and \"system\" refer to entities that interact with each other during conversation generation.\\n\\n1. User: The \"user\" represents the individual who initiates the conversation or interacts with the conversational system. The user provides input or prompts to the system, such as questions, requests, or statements.\\n\\n2. Assistant: The \"assistant\" is the conversational AI model or system that generates responses to the user\\'s inputs. It processes the user\\'s input, understands the context of the conversation, and generates meaningful and relevant responses.\\n\\n3. System: The \"system\" refers to the overall conversational framework that includes both the user and the assistant. The system manages the flow of conversation, facilitates interactions between the user and the assistant, and ensures a coherent and engaging conversational experience.\\n\\nIn summary, the user is the human interacting with the system, the assistant is the AI model generating responses, and the system orchestrates the conversation between the user and the assistant.', role='assistant', function_call=None, tool_calls=None))], created=1717380021, model='gpt-3.5-turbo-0125', object='chat.completion', system_fingerprint=None, usage=CompletionUsage(completion_tokens=206, prompt_tokens=28, total_tokens=234))\n"
     ]
    }
   ],
   "source": [
    "from dotenv import dotenv_values\n",
    "from openai import OpenAI\n",
    "import json\n",
    "\n",
    "envs = dotenv_values(\"../.env\")\n",
    "\n",
    "client = OpenAI(api_key = envs[\"OPENAI_API_KEY\"])\n",
    "\n",
    "completion = client.chat.completions.create(\n",
    "  model=\"gpt-3.5-turbo\",\n",
    "  messages=[\n",
    "    {\"role\": \"system\", \"content\": \"no system info\"},\n",
    "    {\"role\": \"user\", \"content\": \"in openAi api, what's difference of user, assistant and system\"}\n",
    "  ]\n",
    ")\n",
    "\n",
    "print(completion)"
   ]
  },
  {
   "cell_type": "code",
   "execution_count": null,
   "id": "258df67b-a5b7-494e-bda4-d176f7ee27a0",
   "metadata": {},
   "outputs": [],
   "source": []
  }
 ],
 "metadata": {
  "kernelspec": {
   "display_name": "venv",
   "language": "python",
   "name": "venv"
  },
  "language_info": {
   "codemirror_mode": {
    "name": "ipython",
    "version": 3
   },
   "file_extension": ".py",
   "mimetype": "text/x-python",
   "name": "python",
   "nbconvert_exporter": "python",
   "pygments_lexer": "ipython3",
   "version": "3.9.6"
  }
 },
 "nbformat": 4,
 "nbformat_minor": 5
}
