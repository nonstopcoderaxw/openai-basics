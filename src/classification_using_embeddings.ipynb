{
 "cells": [
  {
   "cell_type": "markdown",
   "id": "430a5873-309a-4c92-8973-adbdde340fdf",
   "metadata": {},
   "source": [
    "### reference\n",
    "https://cookbook.openai.com/examples/classification_using_embeddings"
   ]
  },
  {
   "cell_type": "code",
   "execution_count": 52,
   "id": "c755ea52-4a85-428a-bfe0-f3df85ae3dfa",
   "metadata": {},
   "outputs": [],
   "source": [
    "import pandas as pd\n",
    "import numpy as np\n",
    "from ast import literal_eval\n",
    "\n",
    "from sklearn.ensemble import RandomForestClassifier\n",
    "from sklearn.model_selection import train_test_split\n",
    "from sklearn.metrics import classification_report, accuracy_score\n",
    "\n",
    "datafile_path = \"../data/result_embeddings.csv\"\n",
    "\n",
    "df = pd.read_csv(datafile_path)\n",
    "df[\"embedding\"] = df.embedding.apply(literal_eval).apply(np.array)  # convert string to array\n",
    "X_train, X_test, y_train, y_test = train_test_split(\n",
    "    list(df.embedding.values), df.Score, test_size=0.2, random_state=42\n",
    ")\n",
    "# split data into train and test\n",
    "# X_train, X_test, y_train, y_test = train_test_split(\n",
    "#     list(df.embedding.values), df.Score, test_size=0.2, random_state=42\n",
    "# )\n",
    "\n",
    "# # train random forest classifier\n",
    "# clf = RandomForestClassifier(n_estimators=100)\n",
    "# clf.fit(X_train, y_train)\n",
    "# preds = clf.predict(X_test)\n",
    "# probas = clf.predict_proba(X_test)\n",
    "\n",
    "# report = classification_report(y_test, preds)\n",
    "# print(report)\n"
   ]
  }
 ],
 "metadata": {
  "kernelspec": {
   "display_name": "venv",
   "language": "python",
   "name": "venv"
  },
  "language_info": {
   "codemirror_mode": {
    "name": "ipython",
    "version": 3
   },
   "file_extension": ".py",
   "mimetype": "text/x-python",
   "name": "python",
   "nbconvert_exporter": "python",
   "pygments_lexer": "ipython3",
   "version": "3.9.6"
  }
 },
 "nbformat": 4,
 "nbformat_minor": 5
}
